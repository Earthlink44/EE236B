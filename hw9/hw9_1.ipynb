{
 "cells": [
  {
   "cell_type": "code",
   "execution_count": 1,
   "metadata": {
    "collapsed": true
   },
   "outputs": [],
   "source": [
    "import numpy as np\n"
   ]
  },
  {
   "cell_type": "code",
   "execution_count": 53,
   "metadata": {},
   "outputs": [],
   "source": [
    "ALPHA = 0.01\n",
    "BETA = 0.5\n",
    "MAXITERS = 10\n",
    "GRADTOL = 1e-3"
   ]
  },
  {
   "cell_type": "code",
   "execution_count": 5,
   "metadata": {
    "collapsed": true
   },
   "outputs": [],
   "source": [
    "p1 = np.matrix([[2],[1.3],[1]])\n",
    "p2 = np.matrix([[2],[0.5],[1]])\n",
    "p3 = np.matrix([[0.5],[1.3],[1]])\n",
    "p4 = np.matrix([[0.5],[0.5],[1]])"
   ]
  },
  {
   "cell_type": "code",
   "execution_count": 34,
   "metadata": {
    "collapsed": true
   },
   "outputs": [],
   "source": [
    "def f(x1,x2):\n",
    "    return np.log(x1+0.3*x2+1)/3+np.log(x1-x2/2+1)/6+np.log(-x1/2+0.3*x2+1)/3+np.log(-x1/2-x2/2+1)/6"
   ]
  },
  {
   "cell_type": "code",
   "execution_count": 8,
   "metadata": {},
   "outputs": [],
   "source": [
    "def a(x1,x2):\n",
    "    return x1 + 0.3*x2 + 1\n",
    "def b(x1,x2):\n",
    "    return x1 - 0.5*x2 + 1\n",
    "def c(x1,x2):\n",
    "    return -0.5*x1 + 0.3*x2 + 1\n",
    "def d(x1,x2):\n",
    "    return -0.5*x1 - 0.5*x2 + 1"
   ]
  },
  {
   "cell_type": "code",
   "execution_count": 36,
   "metadata": {
    "collapsed": true
   },
   "outputs": [],
   "source": [
    "def grad(x1, x2):\n",
    "    delta_x1 = (1/3)*x1/a(x1,x2)+(1/6)*x1/b(x1,x2)-(1/6)*x1/c(x1,x2)-(1/12)*x1/d(x1,x2)\n",
    "    delta_x2 = (1/10)*x2/a(x1,x2)+(-1/12)*x2/b(x1,x2)+(1/10)*x2/c(x1,x2)-(1/12)*x2/d(x1,x2)\n",
    "    return np.matrix([[delta_x1],[delta_x2]])"
   ]
  },
  {
   "cell_type": "code",
   "execution_count": 37,
   "metadata": {},
   "outputs": [],
   "source": [
    "def hess(x1, x2):\n",
    "    x1x1_1 = ((1/3)*a(x1, x2) + (1/3)*x1)/(a(x1, x2)*a(x1, x2))\n",
    "    x1x1_2 = ((1/6)*b(x1, x2) + (1/6)*x1)/(b(x1, x2)*b(x1, x2))\n",
    "    x1x1_3 = ((-1/6)*c(x1, x2) + (1/12)*x1)/(c(x1, x2)*c(x1, x2))\n",
    "    x1x1_4 = ((-1/12)*d(x1, x2) + (1/24)*x1)/(d(x1, x2)*d(x1, x2))\n",
    "    delta_x1x1 = x1x1_1 + x1x1_2 + x1x1_3+ x1x1_4\n",
    "    x2x2_1 = ((1/10)*a(x1, x2) + (0.03)*x2)/(a(x1, x2)*a(x1, x2))\n",
    "    x2x2_2 = ((-1/12)*b(x1, x2) + (-1/12)*x2)/(b(x1, x2)*b(x1, x2))\n",
    "    x2x2_3 = ((1/10)*c(x1, x2) + (0.03)*x2)/(c(x1, x2)*c(x1, x2))\n",
    "    x2x2_4 = ((-1/12)*d(x1, x2) + (1/24)*x2)/(d(x1, x2)*d(x1, x2))\n",
    "    delta_x2x2 = x2x2_1 + x2x2_2 + x2x2_3+ x2x2_4\n",
    "    x1x2_1 = (0.1)*x1/(a(x1, x2)*a(x1, x2))\n",
    "    x1x2_2 = (-1/12)*x1/(b(x1, x2)*b(x1, x2))\n",
    "    x1x2_3 = (-1/20)*x1/(c(x1, x2)*c(x1, x2))\n",
    "    x1x2_4 = (1/24)*x1/(d(x1, x2)*d(x1, x2))\n",
    "    delta_x1x2 = x1x2_1 + x1x2_2 + x1x2_3 + x1x2_4\n",
    "    x2x1_1 = (0.1)*x2/(a(x1, x2)*a(x1, x2))\n",
    "    x2x1_2 = (-1/12)*x2/(b(x1, x2)*b(x1, x2))\n",
    "    x2x1_3 = (-1/20)*x2/(c(x1, x2)*c(x1, x2))\n",
    "    x2x1_4 = (1/24)*x2/(d(x1, x2)*d(x1, x2))\n",
    "    delta_x2x1 = x2x1_1 + x2x1_2 + x2x1_3 + x2x1_4\n",
    "    return np.matrix([[delta_x1x1, delta_x1x2],[delta_x2x1, delta_x2x2]])"
   ]
  },
  {
   "cell_type": "code",
   "execution_count": 55,
   "metadata": {},
   "outputs": [],
   "source": [
    "x = np.zeros((2,1))\n",
    "for i in range(1, MAXITERS):\n",
    "    val = f(x[0,0],x[1,0])\n",
    "    v = np.dot(-np.linalg.inv(hess(x[0,0],x[1,0])), grad(x[0,0],x[1,0]))\n",
    "    lamba_s = np.dot(grad(x[0,0],x[1,0]).T, v)\n",
    "    if abs(lamba_s) < 2 * GRADTOL:\n",
    "        break\n",
    "    t = 1\n",
    "    while np.min(f(x[0,0], x[1,0]) - val + ALPHA*t*lamba_s) > 0:\n",
    "        t = BETA*t;\n",
    "    x = x + np.dot(t,v);"
   ]
  },
  {
   "cell_type": "code",
   "execution_count": 60,
   "metadata": {},
   "outputs": [
    {
     "data": {
      "text/plain": [
       "0.47747327643782672"
      ]
     },
     "execution_count": 60,
     "metadata": {},
     "output_type": "execute_result"
    }
   ],
   "source": [
    "x[0,0]"
   ]
  },
  {
   "cell_type": "code",
   "execution_count": 61,
   "metadata": {},
   "outputs": [
    {
     "data": {
      "text/plain": [
       "0.21636289299338429"
      ]
     },
     "execution_count": 61,
     "metadata": {},
     "output_type": "execute_result"
    }
   ],
   "source": [
    "x[1,0]"
   ]
  },
  {
   "cell_type": "code",
   "execution_count": 77,
   "metadata": {
    "collapsed": true
   },
   "outputs": [],
   "source": [
    "def hessian(x):\n",
    "    x_grad = np.gradient(x) \n",
    "    hessian = np.empty((x.ndim, x.ndim) + x.shape, dtype=x.dtype) \n",
    "    for k, grad_k in enumerate(x_grad):\n",
    "        # iterate over dimensions\n",
    "        # apply gradient again to every component of the first derivative.\n",
    "        tmp_grad = np.gradient(grad_k) \n",
    "        for l, grad_kl in enumerate(tmp_grad):\n",
    "            hessian[k, l, :, :] = grad_kl\n",
    "    return hessian"
   ]
  },
  {
   "cell_type": "code",
   "execution_count": null,
   "metadata": {
    "collapsed": true
   },
   "outputs": [],
   "source": []
  }
 ],
 "metadata": {
  "kernelspec": {
   "display_name": "Python 3",
   "language": "python",
   "name": "python3"
  },
  "language_info": {
   "codemirror_mode": {
    "name": "ipython",
    "version": 3
   },
   "file_extension": ".py",
   "mimetype": "text/x-python",
   "name": "python",
   "nbconvert_exporter": "python",
   "pygments_lexer": "ipython3",
   "version": "3.6.3"
  }
 },
 "nbformat": 4,
 "nbformat_minor": 2
}
