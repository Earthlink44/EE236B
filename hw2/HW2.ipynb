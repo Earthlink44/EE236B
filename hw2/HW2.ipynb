{
 "cells": [
  {
   "cell_type": "markdown",
   "metadata": {},
   "source": [
    "Download the Python files spline_data.py and bsplines.py. The first python file contains the problem data, i.e., two vectors t, y of length N = 51, with the data points (t_k, y_k). The second function can be used to compute the B-splines, and their first and second derivatives, at any given point u ∈ [0, 10]. The command [g, gp, gpp] = bsplines(u) returns three vectors of length 13 with elements g_k(u), g_k' (u), and g_k'' (u). (The right derivatives are returned for u = 0, and the left derivatives for u = 10.)"
   ]
  },
  {
   "cell_type": "code",
   "execution_count": 1,
   "metadata": {
    "collapsed": true
   },
   "outputs": [],
   "source": [
    "import numpy as np\n",
    "\n",
    "t = np.array([0.0000000e+00,\n",
    "              2.0000000e-01,\n",
    "              4.0000000e-01,\n",
    "              6.0000000e-01,\n",
    "              8.0000000e-01,\n",
    "              1.0000000e+00,\n",
    "              1.2000000e+00,\n",
    "              1.4000000e+00,\n",
    "              1.6000000e+00,\n",
    "              1.8000000e+00,\n",
    "              2.0000000e+00,\n",
    "              2.2000000e+00,\n",
    "              2.4000000e+00,\n",
    "              2.6000000e+00,\n",
    "              2.8000000e+00,\n",
    "              3.0000000e+00,\n",
    "              3.2000000e+00,\n",
    "              3.4000000e+00,\n",
    "              3.6000000e+00,\n",
    "              3.8000000e+00,\n",
    "              4.0000000e+00,\n",
    "              4.2000000e+00,\n",
    "              4.4000000e+00,\n",
    "              4.6000000e+00,\n",
    "              4.8000000e+00,\n",
    "              5.0000000e+00,\n",
    "              5.2000000e+00,\n",
    "              5.4000000e+00,\n",
    "              5.6000000e+00,\n",
    "              5.8000000e+00,\n",
    "              6.0000000e+00,\n",
    "              6.2000000e+00,\n",
    "              6.4000000e+00,\n",
    "              6.6000000e+00,\n",
    "              6.8000000e+00,\n",
    "              7.0000000e+00,\n",
    "              7.2000000e+00,\n",
    "              7.4000000e+00,\n",
    "              7.6000000e+00,\n",
    "              7.8000000e+00,\n",
    "              8.0000000e+00,\n",
    "              8.2000000e+00,\n",
    "              8.4000000e+00,\n",
    "              8.6000000e+00,\n",
    "              8.8000000e+00,\n",
    "              9.0000000e+00,\n",
    "              9.2000000e+00,\n",
    "              9.4000000e+00,\n",
    "              9.6000000e+00,\n",
    "              9.8000000e+00,\n",
    "              1.0000000e+01])\n",
    "\n",
    "y = np.array([5.2057354e+00,\n",
    "              5.1685295e+00,\n",
    "              4.4693175e+00,\n",
    "              3.1676415e+00,\n",
    "              3.2186727e+00,\n",
    "              2.7558774e+00,\n",
    "              1.6360628e+00,\n",
    "              7.2527756e-01,\n",
    "              2.4583927e-01,\n",
    "             -5.8044829e-01,\n",
    "             -8.7676552e-01,\n",
    "             -8.2548372e-01,\n",
    "             -7.9731423e-01,\n",
    "             -5.9483960e-02,\n",
    "             -4.9755249e-02,\n",
    "              7.0500264e-01,\n",
    "              8.2600211e-01,\n",
    "              1.4030590e-01,\n",
    "              5.1054544e-01,\n",
    "              3.8582234e-01,\n",
    "              8.3860086e-01,\n",
    "              4.1632982e-01,\n",
    "              8.1154682e-01,\n",
    "              2.3060127e-01,\n",
    "              8.4177419e-01,\n",
    "              3.4454159e-01,\n",
    "              3.7408514e-01,\n",
    "              8.6597229e-01,\n",
    "              2.1207010e-01,\n",
    "              7.1788999e-01,\n",
    "              8.0995603e-01,\n",
    "              1.0691093e+00,\n",
    "              6.4850169e-01,\n",
    "              1.0924844e+00,\n",
    "              7.6143045e-01,\n",
    "              1.2122857e+00,\n",
    "              1.1772892e+00,\n",
    "              8.4659501e-01,\n",
    "              9.5866895e-01,\n",
    "              1.8211318e+00,\n",
    "              1.8015936e+00,\n",
    "              1.6354389e+00,\n",
    "              1.7742953e+00,\n",
    "              2.5264767e+00,\n",
    "              2.6522776e+00,\n",
    "              3.7501151e+00,\n",
    "              4.0564222e+00,\n",
    "              4.6247681e+00,\n",
    "              4.9123027e+00,\n",
    "              5.8068946e+00,\n",
    "              7.0260935e+00])"
   ]
  },
  {
   "cell_type": "code",
   "execution_count": 2,
   "metadata": {
    "collapsed": true
   },
   "outputs": [],
   "source": [
    "def bsplines(x):\n",
    "\n",
    "    # [y, yp, ypp] = bsplines(x)\n",
    "    #\n",
    "    # Computes the values and the first and second derivatives of the 13 cubic\n",
    "    # B-splines with breakpoints 0, 1, 2, ..., 10.\n",
    "    # x must be in the interval [0, 10].\n",
    "    #\n",
    "    # y:    a numpy array with the values of the 13 cubic B-splines evaluated\n",
    "    #       at x.\n",
    "    # yp:   a numpy array with the first derivatives of the 13 cubic B-splines\n",
    "    #       B-splines evaluated at x.\n",
    "    # ypp:  a numpy array with the second derivatives of the 13 cubic\n",
    "    #       B-splines evaluated at x.\n",
    "\n",
    "    if x < 0 or x > 10:\n",
    "        raise ValueError('x must be in [0,10].')\n",
    "\n",
    "    # knots\n",
    "    a = np.array([0,0,0,0,1,2,3,4,5,6,7,8,9,10,10,10,10])\n",
    "\n",
    "    # 0 <= x < 10 and a(i) <= x < a(i+1) or x = 10 and i is 14.\n",
    "    i = np.floor(x) + 4\n",
    "\n",
    "    # y1, y2, y are vectors of linear, quadratic and cubic B-splines at x.\n",
    "    if i == 14:\n",
    "        y1 = np.zeros(11); y1[-1] = 1\n",
    "        y2 = np.zeros(12); y2[-1] = 1\n",
    "        y  = np.zeros(13);  y[-1] = 1\n",
    "    else:\n",
    "        j = int(i - 1); x = 1.0 * x;\n",
    "        w1 = (x - a[j]) / (a[j+1] - a[j])\n",
    "        G1 = np.array([1-w1, w1]).reshape(2,1)\n",
    "        w2 = np.array([(x - a[j-1]) / (a[j+1] - a[j-1]), (x - a[j]) / (a[j+2] - a[j])])\n",
    "        G2 = np.vstack((np.diag(1-w2), np.zeros((1,2)))) + np.vstack((np.zeros((1,2)), np.diag(w2)))\n",
    "        w3 = np.array([(x - a[j-2]) / (a[j+1] - a[j-2]), (x - a[j-1]) / (a[j+2] - a[j-1]), (x - a[j]) / (a[j+3] - a[j])])\n",
    "        G3 = np.vstack((np.diag(1-w3), np.zeros((1,3)))) + np.vstack((np.zeros((1,3)), np.diag(w3)))\n",
    "        y  = np.zeros(13)\n",
    "        y[j-3:j+1] = np.matmul(np.matmul(G3, G2), G1).reshape(4,)\n",
    "        y2 = np.zeros(12)\n",
    "        y2[j-3:j] = np.matmul(G2,G1).reshape(3,)\n",
    "        y1 = np.zeros(11)\n",
    "        y1[j-3:j-1] = G1.reshape(2,)\n",
    "\n",
    "    # width of support of linear, quadratic, and cubic B-splines.\n",
    "    d1 = a[4:15] - a[2:13]\n",
    "    d2 = a[4:16] - a[1:13]\n",
    "    d3 = a[4:17] - a[0:13]\n",
    "\n",
    "    # derivatives of quadratic B-splines.\n",
    "    y2p = np.zeros(12)\n",
    "    y2p[0] = -2 * y1[0] / d1[0]\n",
    "    y2p[1:11] = 2 * ( np.divide(y1[0:10], d1[0:10]) - np.divide(y1[1:11], d1[1:11]) )\n",
    "    y2p[11] = 2.0 * y1[10] / d1[10]\n",
    "\n",
    "    # derivatives of cubic B-spines\n",
    "    yp = np.zeros(13)\n",
    "    yp[0] = -3.0 * y2[0] / d2[0]\n",
    "    yp[1:12] = 3 * ( np.divide(y2[0:11], d2[0:11]) - np.divide(y2[1:12], d2[1:12]) )\n",
    "    yp[12] = 3.0 * y2[11] / d2[11]\n",
    "\n",
    "    # second derivatives of cubic B-spines.\n",
    "    ypp = np.zeros(13)\n",
    "    ypp[0] = -3.0 * y2p[0] / d2[0]\n",
    "    ypp[1:12] = 3 * ( np.divide(y2p[0:11], d2[0:11]) - np.divide(y2p[1:12], d2[1:12]) )\n",
    "    ypp[12] = 3.0 * y2p[11] / d2[11]\n",
    "\n",
    "    return y, yp, ypp"
   ]
  },
  {
   "cell_type": "code",
   "execution_count": 3,
   "metadata": {
    "collapsed": true
   },
   "outputs": [],
   "source": [
    "len = t.shape[0]"
   ]
  },
  {
   "cell_type": "code",
   "execution_count": null,
   "metadata": {},
   "outputs": [],
   "source": []
  },
  {
   "cell_type": "code",
   "execution_count": 4,
   "metadata": {},
   "outputs": [
    {
     "data": {
      "text/plain": [
       "(51, 13)"
      ]
     },
     "execution_count": 4,
     "metadata": {},
     "output_type": "execute_result"
    }
   ],
   "source": [
    "g, gp, gpp = bsplines(t[0])\n",
    "a = g.T\n",
    "for k in range(1, len):\n",
    "    g, gp, gpp = bsplines(t[k])\n",
    "    a = np.row_stack((a, g.T))\n",
    "a.shape"
   ]
  },
  {
   "cell_type": "code",
   "execution_count": 5,
   "metadata": {},
   "outputs": [
    {
     "data": {
      "text/plain": [
       "array([ 5.36652559,  4.48774926,  2.90144505, -2.21168141,  1.05560792,\n",
       "        0.38894256,  0.53059368,  0.67645154,  1.11712503,  1.15207016,\n",
       "        3.35227638,  5.09035484,  6.92545564])"
      ]
     },
     "execution_count": 5,
     "metadata": {},
     "output_type": "execute_result"
    }
   ],
   "source": [
    "from numpy.linalg import*\n",
    "xls = np.dot(pinv(a), y)\n",
    "xls"
   ]
  },
  {
   "cell_type": "code",
   "execution_count": 6,
   "metadata": {
    "collapsed": true
   },
   "outputs": [],
   "source": [
    "import matplotlib.pyplot as plt\n",
    "%matplotlib inline"
   ]
  },
  {
   "cell_type": "code",
   "execution_count": 7,
   "metadata": {
    "collapsed": true
   },
   "outputs": [],
   "source": [
    "f1 = []\n",
    "for k in range(0, len):\n",
    "    g, gp, gpp = bsplines(t[k])\n",
    "    f1.append(np.dot(xls.T, g))"
   ]
  },
  {
   "cell_type": "code",
   "execution_count": 8,
   "metadata": {},
   "outputs": [
    {
     "data": {
      "text/plain": [
       "[<matplotlib.lines.Line2D at 0x111881240>]"
      ]
     },
     "execution_count": 8,
     "metadata": {},
     "output_type": "execute_result"
    },
    {
     "data": {
      "image/png": "[encoded data removed]",
      "text/plain": [
       "<matplotlib.figure.Figure at 0x111881208>"
      ]
     },
     "metadata": {},
     "output_type": "display_data"
    }
   ],
   "source": [
    "plt.scatter(t,y)\n",
    "plt.plot(np.arange(0, len/5, 0.2), f1, \"r-\")"
   ]
  },
  {
   "cell_type": "code",
   "execution_count": 9,
   "metadata": {
    "collapsed": true
   },
   "outputs": [],
   "source": [
    "g, gp, gpp = bsplines(t[0])\n",
    "G = gpp.T\n",
    "for k in range(1, 11):\n",
    "    g, gp, gpp = bsplines(t[k])\n",
    "    G = np.row_stack((G, gpp.T))"
   ]
  },
  {
   "cell_type": "code",
   "execution_count": 10,
   "metadata": {},
   "outputs": [
    {
     "data": {
      "text/plain": [
       "(11, 13)"
      ]
     },
     "execution_count": 10,
     "metadata": {},
     "output_type": "execute_result"
    }
   ],
   "source": [
    "np.array(G).shape"
   ]
  },
  {
   "cell_type": "code",
   "execution_count": 11,
   "metadata": {},
   "outputs": [],
   "source": [
    "from cvxpy import *\n",
    "x = Variable(13)"
   ]
  },
  {
   "cell_type": "code",
   "execution_count": 12,
   "metadata": {},
   "outputs": [
    {
     "name": "stdout",
     "output_type": "stream",
     "text": [
      "[[ 5.76709846]\n",
      " [ 4.54889052]\n",
      " [ 2.11247464]\n",
      " [-1.54214916]\n",
      " [ 0.66521995]\n",
      " [ 0.60198847]\n",
      " [ 0.41575225]\n",
      " [ 0.73860647]\n",
      " [ 1.0826633 ]\n",
      " [ 1.17278719]\n",
      " [ 3.33653468]\n",
      " [ 5.09882507]\n",
      " [ 6.92395347]]\n"
     ]
    },
    {
     "data": {
      "text/plain": [
       "(13, 1)"
      ]
     },
     "execution_count": 12,
     "metadata": {},
     "output_type": "execute_result"
    }
   ],
   "source": [
    "objective = Minimize(norm(a*x - y))\n",
    "constraints = [ G*x >= 0]\n",
    "prob = Problem(objective, constraints)\n",
    "# The optimal objective is returned by prob.solve().\n",
    "result = prob.solve()\n",
    "# The optimal value for x is stored in x.value.\n",
    "print(x.value)\n",
    "xlx = x.value\n",
    "np.array(xlx).shape"
   ]
  },
  {
   "cell_type": "code",
   "execution_count": 13,
   "metadata": {},
   "outputs": [
    {
     "data": {
      "text/plain": [
       "matrix([[ 5.76709846]])"
      ]
     },
     "execution_count": 13,
     "metadata": {},
     "output_type": "execute_result"
    }
   ],
   "source": [
    "temp = 0\n",
    "g, gp, gpp = bsplines(t[0])\n",
    "temp = np.dot(xlx.T, g)\n",
    "temp"
   ]
  },
  {
   "cell_type": "code",
   "execution_count": 14,
   "metadata": {},
   "outputs": [
    {
     "data": {
      "text/plain": [
       "(51, 1)"
      ]
     },
     "execution_count": 14,
     "metadata": {},
     "output_type": "execute_result"
    }
   ],
   "source": [
    "\n",
    "for k in range(1, 51):\n",
    "    g, gp, gpp = bsplines(t[k])\n",
    "    temp = np.row_stack((temp, np.dot(xlx.T, g)))\n",
    "temp.shape"
   ]
  },
  {
   "cell_type": "code",
   "execution_count": 15,
   "metadata": {},
   "outputs": [
    {
     "data": {
      "text/plain": [
       "[<matplotlib.lines.Line2D at 0x18136d2518>]"
      ]
     },
     "execution_count": 15,
     "metadata": {},
     "output_type": "execute_result"
    },
    {
     "data": {
      "image/png": "[encoded data removed]",
      "text/plain": [
       "<matplotlib.figure.Figure at 0x18136d2438>"
      ]
     },
     "metadata": {},
     "output_type": "display_data"
    }
   ],
   "source": [
    "plt.scatter(t,y)\n",
    "plt.plot(np.arange(0, len/5, 0.2), temp, \"g-\")"
   ]
  },
  {
   "cell_type": "code",
   "execution_count": null,
   "metadata": {
    "collapsed": true
   },
   "outputs": [],
   "source": []
  }
 ],
 "metadata": {
  "kernelspec": {
   "display_name": "Python 3",
   "language": "python",
   "name": "python3"
  },
  "language_info": {
   "codemirror_mode": {
    "name": "ipython",
    "version": 3
   },
   "file_extension": ".py",
   "mimetype": "text/x-python",
   "name": "python",
   "nbconvert_exporter": "python",
   "pygments_lexer": "ipython3",
   "version": "3.6.3"
  }
 },
 "nbformat": 4,
 "nbformat_minor": 2
}
