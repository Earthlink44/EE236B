{
 "cells": [
  {
   "cell_type": "code",
   "execution_count": 2,
   "metadata": {
    "collapsed": true
   },
   "outputs": [],
   "source": [
    "import numpy as np"
   ]
  },
  {
   "cell_type": "code",
   "execution_count": 7,
   "metadata": {},
   "outputs": [],
   "source": [
    "A = np.array([[-1,0.4,0.8],[1,0,0],[0,1,0]])\n",
    "B = np.array([[1],[0],[0.3]])\n",
    "x_0 = np.array([[0],[0],[0]])\n",
    "x_des = np.array([[7],[2],[-6]])\n",
    "N = 30\n",
    "n = 3"
   ]
  },
  {
   "cell_type": "code",
   "execution_count": 13,
   "metadata": {},
   "outputs": [
    {
     "data": {
      "text/plain": [
       "26.764525798754214"
      ]
     },
     "execution_count": 13,
     "metadata": {},
     "output_type": "execute_result"
    }
   ],
   "source": [
    "from cvxpy import *\n",
    "x = Variable(n, N+1)\n",
    "u = Variable(1, N)\n",
    "\n",
    "states = []\n",
    "for t in range(N):\n",
    "    cost = max_elemwise(max_entries(abs(u)), max_entries(2*abs(u)-1))\n",
    "    constr = [x[:,t+1] == A*x[:,t] + B*u[:,t]]\n",
    "    states.append( Problem(Minimize(cost), constr) )\n",
    "# sums problem objectives and concatenates constraints.\n",
    "prob = sum(states)\n",
    "prob.constraints += [x[:,N] == x_des, x[:,0] == x_0]\n",
    "prob.solve()"
   ]
  },
  {
   "cell_type": "code",
   "execution_count": 14,
   "metadata": {},
   "outputs": [
    {
     "name": "stdout",
     "output_type": "stream",
     "text": [
      "[[ 0.89215086  0.89215086 -0.89215086  0.89215086 -0.89215086  0.89215086\n",
      "  -0.89215086 -0.88238485  0.89215086 -0.89215086  0.89215086 -0.89215086\n",
      "   0.89215086 -0.89215086 -0.89215086  0.89215086 -0.89215086  0.89215086\n",
      "  -0.89215086  0.89215086  0.89215086  0.89215086  0.89215086 -0.8039215\n",
      "   0.89215086  0.89215086  0.89215086  0.89215086  0.89215086  0.89215086]]\n"
     ]
    }
   ],
   "source": [
    "print(u.value)"
   ]
  },
  {
   "cell_type": "code",
   "execution_count": null,
   "metadata": {
    "collapsed": true
   },
   "outputs": [],
   "source": []
  }
 ],
 "metadata": {
  "kernelspec": {
   "display_name": "Python 3",
   "language": "python",
   "name": "python3"
  },
  "language_info": {
   "codemirror_mode": {
    "name": "ipython",
    "version": 3
   },
   "file_extension": ".py",
   "mimetype": "text/x-python",
   "name": "python",
   "nbconvert_exporter": "python",
   "pygments_lexer": "ipython3",
   "version": "3.6.3"
  }
 },
 "nbformat": 4,
 "nbformat_minor": 2
}
