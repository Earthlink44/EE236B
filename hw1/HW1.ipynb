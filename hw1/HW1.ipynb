{
 "cells": [
  {
   "cell_type": "code",
   "execution_count": 1,
   "metadata": {
    "collapsed": true
   },
   "outputs": [],
   "source": [
    "u = [-3.9265,\n",
    "-3.1716,\n",
    "-1.6116,\n",
    "-2.6679,\n",
    "-1.7300,\n",
    "-2.2185,\n",
    "-2.0619,\n",
    "-1.4774,\n",
    "-3.2095,\n",
    "-2.0139,\n",
    "-2.0965,\n",
    "-2.8415,-3.5516,-2.3325,-1.6889,-1.4937,-1.3104,-1.3082,-1.5221,-1.8622,-2.8784,-3.3058,-2.9418,-3.5689,-3.2716,-1.8168,-2.6161,-3.6369,-3.6095,-3.8214,-3.5639,-2.9667,-1.9473,-3.0471,-2.8956,-3.2030,-2.2689,-2.3213,-1.1585,-1.8993,-3.5772,-2.6473,-1.4699,-3.7979,-2.0968,-4.0118,-2.2416,-1.3737,-2.0936,-1.4260]\n",
    "\n"
   ]
  },
  {
   "cell_type": "code",
   "execution_count": 2,
   "metadata": {
    "collapsed": true
   },
   "outputs": [],
   "source": [
    "v = [5.7992,\n",
    "   7.3131,\n",
    "   7.5592,\n",
    "   7.6911,\n",
    "   5.5113,\n",
    "   7.7442,\n",
    "   7.7092,\n",
    "   6.0549,\n",
    "   7.5171,\n",
    "   7.6045,\n",
    "   5.1354,\n",
    "   5.0672,\n",
    "   7.3911,\n",
    "   7.6949,\n",
    "   5.3469,\n",
    "   7.3474,\n",
    "   6.8715,\n",
    "   6.7842,\n",
    "   5.7284,\n",
    "   7.7633,\n",
    "   7.7677,\n",
    "   5.4779,\n",
    "   5.0690,\n",
    "   5.5246,\n",
    "   7.6772,\n",
    "   5.3181,\n",
    "   7.6149,\n",
    "   7.3525,\n",
    "   6.0303,\n",
    "   5.8477,\n",
    "   5.8479,\n",
    "   5.3237,\n",
    "   5.1704,\n",
    "   5.4246,\n",
    "   7.7992,\n",
    "   5.5734,\n",
    "   7.8705,\n",
    "   5.1618,\n",
    "   6.1579,\n",
    "   5.4068,\n",
    "   7.2446,\n",
    "   7.6805,\n",
    "   6.1180,\n",
    "   7.3691,\n",
    "   7.6464,\n",
    "   6.1480,\n",
    "   7.7414,\n",
    "   7.2054,\n",
    "   5.2386,\n",
    "   5.8594]\n"
   ]
  },
  {
   "cell_type": "code",
   "execution_count": 3,
   "metadata": {},
   "outputs": [
    {
     "data": {
      "text/plain": [
       "True"
      ]
     },
     "execution_count": 3,
     "metadata": {},
     "output_type": "execute_result"
    }
   ],
   "source": [
    "len(v) == len(u)"
   ]
  },
  {
   "cell_type": "code",
   "execution_count": 4,
   "metadata": {
    "collapsed": true
   },
   "outputs": [],
   "source": [
    "import numpy as np\n",
    "import matplotlib.pyplot as plt\n",
    "%matplotlib inline"
   ]
  },
  {
   "cell_type": "code",
   "execution_count": 5,
   "metadata": {
    "collapsed": true
   },
   "outputs": [],
   "source": [
    "v = np.array(v)"
   ]
  },
  {
   "cell_type": "code",
   "execution_count": 6,
   "metadata": {
    "collapsed": true
   },
   "outputs": [],
   "source": [
    "u = np.array(u)"
   ]
  },
  {
   "cell_type": "code",
   "execution_count": 7,
   "metadata": {},
   "outputs": [
    {
     "data": {
      "text/plain": [
       "array([ 5.7992,  7.3131,  7.5592,  7.6911,  5.5113,  7.7442,  7.7092,\n",
       "        6.0549,  7.5171,  7.6045,  5.1354,  5.0672,  7.3911,  7.6949,\n",
       "        5.3469,  7.3474,  6.8715,  6.7842,  5.7284,  7.7633,  7.7677,\n",
       "        5.4779,  5.069 ,  5.5246,  7.6772,  5.3181,  7.6149,  7.3525,\n",
       "        6.0303,  5.8477,  5.8479,  5.3237,  5.1704,  5.4246,  7.7992,\n",
       "        5.5734,  7.8705,  5.1618,  6.1579,  5.4068,  7.2446,  7.6805,\n",
       "        6.118 ,  7.3691,  7.6464,  6.148 ,  7.7414,  7.2054,  5.2386,\n",
       "        5.8594])"
      ]
     },
     "execution_count": 7,
     "metadata": {},
     "output_type": "execute_result"
    }
   ],
   "source": [
    "v"
   ]
  },
  {
   "cell_type": "code",
   "execution_count": 8,
   "metadata": {},
   "outputs": [
    {
     "data": {
      "text/plain": [
       "(50,)"
      ]
     },
     "execution_count": 8,
     "metadata": {},
     "output_type": "execute_result"
    }
   ],
   "source": [
    "u.shape"
   ]
  },
  {
   "cell_type": "markdown",
   "metadata": {},
   "source": [
    "Circle\n",
    "---"
   ]
  },
  {
   "cell_type": "code",
   "execution_count": 9,
   "metadata": {
    "collapsed": true
   },
   "outputs": [],
   "source": [
    "A = [np.dot(u, -2),np.dot(v, -2),np.ones((50,))]"
   ]
  },
  {
   "cell_type": "code",
   "execution_count": 10,
   "metadata": {
    "collapsed": true
   },
   "outputs": [],
   "source": [
    "A = np.array(A)"
   ]
  },
  {
   "cell_type": "code",
   "execution_count": 11,
   "metadata": {},
   "outputs": [
    {
     "data": {
      "text/plain": [
       "(3, 50)"
      ]
     },
     "execution_count": 11,
     "metadata": {},
     "output_type": "execute_result"
    }
   ],
   "source": [
    "A.shape"
   ]
  },
  {
   "cell_type": "code",
   "execution_count": 12,
   "metadata": {
    "collapsed": true
   },
   "outputs": [],
   "source": [
    "A = A.T"
   ]
  },
  {
   "cell_type": "code",
   "execution_count": 13,
   "metadata": {
    "collapsed": true
   },
   "outputs": [],
   "source": [
    "b = np.dot(-1, np.square(u)) + np.dot(-1, np.square(v))"
   ]
  },
  {
   "cell_type": "code",
   "execution_count": 14,
   "metadata": {},
   "outputs": [
    {
     "data": {
      "text/plain": [
       "array([-49.04812289, -63.54047817, -59.7387592 , -66.27070962,\n",
       "       -33.36732769, -64.89437589, -63.68319625, -38.84452477,\n",
       "       -66.80768266, -61.88421346, -30.76764541, -33.75063809,\n",
       "       -67.24222177, -64.65204226, -31.44172282, -56.21542645,\n",
       "       -48.93466041, -47.73675688, -35.13135497, -63.73661573,\n",
       "       -68.62234985, -40.93570205, -34.34894824, -43.25825237,\n",
       "       -69.6427664 , -31.58294985, -64.83068122, -67.28629786,\n",
       "       -49.39300834, -48.79869325, -46.89931762, -37.14309058,\n",
       "       -30.52501345, -38.71110357, -69.21202   , -41.32199656,\n",
       "       -67.09267746, -32.03261293, -39.26185466, -32.84082673,\n",
       "       -65.280589  , -65.99827754, -39.59053001, -68.72767922,\n",
       "       -62.8640032 , -53.89244324, -64.95404452, -53.80484085,\n",
       "       -31.82609092, -36.36604436])"
      ]
     },
     "execution_count": 14,
     "metadata": {},
     "output_type": "execute_result"
    }
   ],
   "source": [
    "b"
   ]
  },
  {
   "cell_type": "code",
   "execution_count": 15,
   "metadata": {},
   "outputs": [
    {
     "data": {
      "text/plain": [
       "(50, 3)"
      ]
     },
     "execution_count": 15,
     "metadata": {},
     "output_type": "execute_result"
    }
   ],
   "source": [
    "A.shape"
   ]
  },
  {
   "cell_type": "code",
   "execution_count": 16,
   "metadata": {
    "collapsed": true
   },
   "outputs": [],
   "source": [
    "from numpy.linalg import pinv"
   ]
  },
  {
   "cell_type": "code",
   "execution_count": 17,
   "metadata": {
    "collapsed": true
   },
   "outputs": [],
   "source": [
    "x =np.dot(pinv(A), b)"
   ]
  },
  {
   "cell_type": "code",
   "execution_count": 18,
   "metadata": {},
   "outputs": [
    {
     "data": {
      "text/plain": [
       "array([ -2.5671307 ,   6.46803908,  46.67960477])"
      ]
     },
     "execution_count": 18,
     "metadata": {},
     "output_type": "execute_result"
    }
   ],
   "source": [
    "x"
   ]
  },
  {
   "cell_type": "code",
   "execution_count": 19,
   "metadata": {
    "collapsed": true
   },
   "outputs": [],
   "source": [
    "R_ = np.sqrt(x[0]**2 + x[1]**2 - x[2])"
   ]
  },
  {
   "cell_type": "code",
   "execution_count": 20,
   "metadata": {},
   "outputs": [
    {
     "data": {
      "text/plain": [
       "(-4.1679725811500346,\n",
       " -1.0023274188499647,\n",
       " 4.9062369031961381,\n",
       " 8.0314630968038614)"
      ]
     },
     "execution_count": 20,
     "metadata": {},
     "output_type": "execute_result"
    },
    {
     "data": {
      "image/png": "[encoded data removed]",
      "text/plain": [
       "<matplotlib.figure.Figure at 0x1087520b8>"
      ]
     },
     "metadata": {},
     "output_type": "display_data"
    }
   ],
   "source": [
    "from math import pi\n",
    "from numpy import cos, sin\n",
    "angels_circle = [i*pi/180 for i in range(0, 360)]\n",
    "X = R_*np.array(cos(angels_circle)) + x[0]\n",
    "Y = R_*np.array(sin(angels_circle)) + x[1]\n",
    "plt.plot(X,Y,'b--')\n",
    "plt.plot(x[0],x[1],'gx')\n",
    "plt.scatter(u, v , s=8, c='r', marker = 'o')\n",
    "plt.axis('equal')\n",
    "plt.axis('scaled')"
   ]
  },
  {
   "cell_type": "code",
   "execution_count": 21,
   "metadata": {},
   "outputs": [
    {
     "data": {
      "text/plain": [
       "1.3213950355955042"
      ]
     },
     "execution_count": 21,
     "metadata": {},
     "output_type": "execute_result"
    }
   ],
   "source": [
    "R_"
   ]
  },
  {
   "cell_type": "code",
   "execution_count": 22,
   "metadata": {
    "collapsed": true
   },
   "outputs": [],
   "source": [
    "A = [\n",
    "   [2.2322506,  2.3608776,  6.4272570,  4.5928443,  1.6874500,  1.6519149,  1.3613901,  1.3489183,   1.2240627,  0.98190399],\n",
    "   [2.7500708,  3.0048172,  9.3126220,  6.9520800,  2.3539501,  2.4199318,  2.0442747,  2.2033567,   2.2708388,  1.9709245],\n",
    "   [2.8284155,  3.1119258,  10.119832,  7.5741839,  2.4653595,  2.5526347,  2.1549195,  2.3478748,   2.4499957,  2.1282056],\n",
    "   [2.1023610,  2.4983526,  9.1578327,  7.8252458,  2.4959281,  2.8253148,  2.5243521,  3.1066427,   3.7824019,  3.5875523],\n",
    "   [2.4763217,  2.6968707,  8.8581324,  6.5116690,  2.0426467,  2.0739080,  1.7133470,  1.8043616,   1.7801257,  1.4641818],\n",
    "   [2.6126506,  2.8702485,  10.040781,  7.4064468,  2.1992901,  2.2525875,  1.8571140,  1.9826653,   1.9867350,  1.6339491],\n",
    "   [0.62497948,  0.87566000,  3.1538678,  3.6240207,  1.3047677,  1.6312026,  1.5608873,  2.1294828,   2.9048558,  2.9259499],\n",
    "   [2.6157614,  2.9895230,  9.6598283,  8.2467078,  2.7645416,  3.0404163,  2.6749748,  3.1880348,   3.7628955,  3.4956759],\n",
    "   [2.5744672,  2.9508037,  9.4134658,  8.1791159,  2.7696480,  3.0622237,  2.7041955,  3.2481519,   3.8753854,  3.6182945],\n",
    "   [2.4204740,  2.6968058,  8.9050958,  7.2103278,  2.2371792,  2.3680453,  1.9979149,  2.2569342,   2.4718260,  2.1374095],\n",
    "   [2.5191086,  2.8266996,  9.5848864,  7.8791855,  2.3803756,  2.5417584,  2.1452744,  2.4572142,   2.7380626,  2.3741696],\n",
    "   [2.6174486,  3.0422971,  9.6174110,  8.8556521,  2.9958059,  3.3795576,  3.0075078,  3.7225658,   4.6168473,  4.3604955],\n",
    "   [0.60331523,  0.80638053,  1.4822079,  2.3665323,  1.2759486,  1.5992449,  1.5856814,  2.1788348,   3.0545384,  3.1876103],\n",
    "   [2.3709916,  2.6763255,  8.3307800,  7.2706588,  2.3723746,  2.5794149,  2.2171083,  2.6165741,   3.0565388,  2.7382493],\n",
    "   [1.8183604,  2.1526160,  5.4739360,  5.7323980,  2.4138457,  2.8114122,  2.6181896,  3.3662271,   4.4059255,  4.3859882],\n",
    "   [2.4403105,  2.7976039,  7.9470154,  7.4624083,  2.7146543,  3.0402397,  2.7030504,  3.3269572,   4.1263491,  3.8959405],\n",
    "   [2.2078879,  2.5689201,  6.5909259,  6.6442582,  2.7180623,  3.1180467,  2.8593714,  3.6245731,   4.6778688,  4.5919963],\n",
    "   [1.0333647,  1.2559428,  2.1894958,  2.8629731,  1.6713525,  2.0127019,  1.9769484,  2.6253969,   3.5912494,  3.7654728],\n",
    "   [1.9747690,  2.2260111,  6.5599734,  5.9449762,  1.9652304,  2.1424967,  1.8195021,  2.1706177,   2.5824161,  2.2730261],\n",
    "   [0.91667677,  1.1171752,  1.5101980,  2.2536038,  1.5740654,  1.9126641,  1.9159781,  2.5680665,   3.5664642,  3.8163407]]\n"
   ]
  },
  {
   "cell_type": "code",
   "execution_count": 23,
   "metadata": {
    "collapsed": true
   },
   "outputs": [],
   "source": [
    "A = 0.1*np.array(A)"
   ]
  },
  {
   "cell_type": "code",
   "execution_count": 24,
   "metadata": {},
   "outputs": [
    {
     "data": {
      "text/plain": [
       "(20, 10)"
      ]
     },
     "execution_count": 24,
     "metadata": {},
     "output_type": "execute_result"
    }
   ],
   "source": [
    "A.shape"
   ]
  },
  {
   "cell_type": "code",
   "execution_count": 25,
   "metadata": {},
   "outputs": [
    {
     "data": {
      "text/plain": [
       "array([[ 0.22322506,  0.23608776,  0.6427257 ,  0.45928443,  0.168745  ,\n",
       "         0.16519149,  0.13613901,  0.13489183,  0.12240627,  0.0981904 ],\n",
       "       [ 0.27500708,  0.30048172,  0.9312622 ,  0.695208  ,  0.23539501,\n",
       "         0.24199318,  0.20442747,  0.22033567,  0.22708388,  0.19709245],\n",
       "       [ 0.28284155,  0.31119258,  1.0119832 ,  0.75741839,  0.24653595,\n",
       "         0.25526347,  0.21549195,  0.23478748,  0.24499957,  0.21282056],\n",
       "       [ 0.2102361 ,  0.24983526,  0.91578327,  0.78252458,  0.24959281,\n",
       "         0.28253148,  0.25243521,  0.31066427,  0.37824019,  0.35875523],\n",
       "       [ 0.24763217,  0.26968707,  0.88581324,  0.6511669 ,  0.20426467,\n",
       "         0.2073908 ,  0.1713347 ,  0.18043616,  0.17801257,  0.14641818],\n",
       "       [ 0.26126506,  0.28702485,  1.0040781 ,  0.74064468,  0.21992901,\n",
       "         0.22525875,  0.1857114 ,  0.19826653,  0.1986735 ,  0.16339491],\n",
       "       [ 0.06249795,  0.087566  ,  0.31538678,  0.36240207,  0.13047677,\n",
       "         0.16312026,  0.15608873,  0.21294828,  0.29048558,  0.29259499],\n",
       "       [ 0.26157614,  0.2989523 ,  0.96598283,  0.82467078,  0.27645416,\n",
       "         0.30404163,  0.26749748,  0.31880348,  0.37628955,  0.34956759],\n",
       "       [ 0.25744672,  0.29508037,  0.94134658,  0.81791159,  0.2769648 ,\n",
       "         0.30622237,  0.27041955,  0.32481519,  0.38753854,  0.36182945],\n",
       "       [ 0.2420474 ,  0.26968058,  0.89050958,  0.72103278,  0.22371792,\n",
       "         0.23680453,  0.19979149,  0.22569342,  0.2471826 ,  0.21374095],\n",
       "       [ 0.25191086,  0.28266996,  0.95848864,  0.78791855,  0.23803756,\n",
       "         0.25417584,  0.21452744,  0.24572142,  0.27380626,  0.23741696],\n",
       "       [ 0.26174486,  0.30422971,  0.9617411 ,  0.88556521,  0.29958059,\n",
       "         0.33795576,  0.30075078,  0.37225658,  0.46168473,  0.43604955],\n",
       "       [ 0.06033152,  0.08063805,  0.14822079,  0.23665323,  0.12759486,\n",
       "         0.15992449,  0.15856814,  0.21788348,  0.30545384,  0.31876103],\n",
       "       [ 0.23709916,  0.26763255,  0.833078  ,  0.72706588,  0.23723746,\n",
       "         0.25794149,  0.22171083,  0.26165741,  0.30565388,  0.27382493],\n",
       "       [ 0.18183604,  0.2152616 ,  0.5473936 ,  0.5732398 ,  0.24138457,\n",
       "         0.28114122,  0.26181896,  0.33662271,  0.44059255,  0.43859882],\n",
       "       [ 0.24403105,  0.27976039,  0.79470154,  0.74624083,  0.27146543,\n",
       "         0.30402397,  0.27030504,  0.33269572,  0.41263491,  0.38959405],\n",
       "       [ 0.22078879,  0.25689201,  0.65909259,  0.66442582,  0.27180623,\n",
       "         0.31180467,  0.28593714,  0.36245731,  0.46778688,  0.45919963],\n",
       "       [ 0.10333647,  0.12559428,  0.21894958,  0.28629731,  0.16713525,\n",
       "         0.20127019,  0.19769484,  0.26253969,  0.35912494,  0.37654728],\n",
       "       [ 0.1974769 ,  0.22260111,  0.65599734,  0.59449762,  0.19652304,\n",
       "         0.21424967,  0.18195021,  0.21706177,  0.25824161,  0.22730261],\n",
       "       [ 0.09166768,  0.11171752,  0.1510198 ,  0.22536038,  0.15740654,\n",
       "         0.19126641,  0.19159781,  0.25680665,  0.35664642,  0.38163407]])"
      ]
     },
     "execution_count": 25,
     "metadata": {},
     "output_type": "execute_result"
    }
   ],
   "source": [
    "A"
   ]
  },
  {
   "cell_type": "code",
   "execution_count": null,
   "metadata": {
    "collapsed": true
   },
   "outputs": [],
   "source": [
    "\n",
    "\n",
    "\n",
    "\n",
    "\n",
    "\n",
    "\n",
    "\n",
    "\n",
    "\n",
    "\n"
   ]
  },
  {
   "cell_type": "markdown",
   "metadata": {},
   "source": [
    "(a) Equal lamp powers.\n",
    "-----"
   ]
  },
  {
   "cell_type": "code",
   "execution_count": 26,
   "metadata": {
    "collapsed": true
   },
   "outputs": [],
   "source": [
    "from math import log"
   ]
  },
  {
   "cell_type": "code",
   "execution_count": 27,
   "metadata": {},
   "outputs": [
    {
     "name": "stdout",
     "output_type": "stream",
     "text": [
      "CPU times: user 2 µs, sys: 0 ns, total: 2 µs\n",
      "Wall time: 5.96 µs\n"
     ]
    }
   ],
   "source": [
    "res = -1\n",
    "f = []\n",
    "for y in np.arange(0.0001, 1, 0.0001):\n",
    "    for row in A:\n",
    "        res = max(abs(log(np.dot(row,np.ones(10,)*y))), res)\n",
    "    f.append(res)\n",
    "    res = -1\n",
    "%time"
   ]
  },
  {
   "cell_type": "code",
   "execution_count": 28,
   "metadata": {},
   "outputs": [
    {
     "data": {
      "text/plain": [
       "9999"
      ]
     },
     "execution_count": 28,
     "metadata": {},
     "output_type": "execute_result"
    }
   ],
   "source": [
    "len(f)"
   ]
  },
  {
   "cell_type": "code",
   "execution_count": 29,
   "metadata": {},
   "outputs": [
    {
     "data": {
      "text/plain": [
       "[<matplotlib.lines.Line2D at 0x110df89b0>]"
      ]
     },
     "execution_count": 29,
     "metadata": {},
     "output_type": "execute_result"
    },
    {
     "data": {
      "image/png": "[encoded data removed]",
      "text/plain": [
       "<matplotlib.figure.Figure at 0x108854198>"
      ]
     },
     "metadata": {},
     "output_type": "display_data"
    }
   ],
   "source": [
    "plt.plot(np.arange(0.0001, 1, 0.0001), f)"
   ]
  },
  {
   "cell_type": "code",
   "execution_count": 30,
   "metadata": {},
   "outputs": [
    {
     "name": "stdout",
     "output_type": "stream",
     "text": [
      "0.3453\n"
     ]
    },
    {
     "data": {
      "text/plain": [
       "0.46767995266043966"
      ]
     },
     "execution_count": 30,
     "metadata": {},
     "output_type": "execute_result"
    }
   ],
   "source": [
    "print(np.argmin(f)/10000)\n",
    "np.min(f)"
   ]
  },
  {
   "cell_type": "markdown",
   "metadata": {},
   "source": [
    "(b) Least-squares with saturation.\n",
    "---\n"
   ]
  },
  {
   "cell_type": "code",
   "execution_count": 31,
   "metadata": {
    "collapsed": true
   },
   "outputs": [],
   "source": [
    "A_ = pinv(A)\n",
    "p2 = np.dot(A_,np.ones((20,)))"
   ]
  },
  {
   "cell_type": "code",
   "execution_count": 32,
   "metadata": {
    "collapsed": true
   },
   "outputs": [],
   "source": [
    "p2[p2 > 1] = 1\n",
    "p2[p2 < 0] = 0"
   ]
  },
  {
   "cell_type": "code",
   "execution_count": 33,
   "metadata": {},
   "outputs": [
    {
     "data": {
      "text/plain": [
       "array([ 1.,  0.,  1.,  0.,  0.,  1.,  0.,  1.,  0.,  1.])"
      ]
     },
     "execution_count": 33,
     "metadata": {},
     "output_type": "execute_result"
    }
   ],
   "source": [
    "p2"
   ]
  },
  {
   "cell_type": "code",
   "execution_count": 34,
   "metadata": {},
   "outputs": [
    {
     "name": "stdout",
     "output_type": "stream",
     "text": [
      "0.8627835570819034\n"
     ]
    }
   ],
   "source": [
    "res = -1\n",
    "for row in A:\n",
    "    res = max(abs(log(np.dot(row,p2))), res)\n",
    "print(res)"
   ]
  },
  {
   "cell_type": "markdown",
   "metadata": {},
   "source": [
    "(c) Regularized least squares.\n",
    "---"
   ]
  },
  {
   "cell_type": "code",
   "execution_count": 35,
   "metadata": {
    "collapsed": true
   },
   "outputs": [],
   "source": [
    "rho = 0.219"
   ]
  },
  {
   "cell_type": "code",
   "execution_count": 36,
   "metadata": {
    "collapsed": true
   },
   "outputs": [],
   "source": [
    "# rho = 0.1\n",
    "# while(True):\n",
    "#     temp = np.dot(pinv(A3), np.vstack((np.ones((20,1)), (rho**0.5)*0.5*np.ones((10,1)))))\n",
    "#     if temp.min() >= 0 and temp.max() <= 1 :\n",
    "#         print(rho);\n",
    "#         break\n",
    "#     else:\n",
    "#         rho += 0.001\n",
    "# print(rho)\n",
    "# %time"
   ]
  },
  {
   "cell_type": "code",
   "execution_count": 37,
   "metadata": {},
   "outputs": [
    {
     "data": {
      "text/plain": [
       "array([[  5.00419805e-01],\n",
       "       [  4.77688566e-01],\n",
       "       [  8.33041787e-02],\n",
       "       [  2.25265686e-04],\n",
       "       [  4.56080593e-01],\n",
       "       [  4.35428383e-01],\n",
       "       [  4.59707916e-01],\n",
       "       [  4.30715783e-01],\n",
       "       [  4.03431101e-01],\n",
       "       [  4.52643679e-01]])"
      ]
     },
     "execution_count": 37,
     "metadata": {},
     "output_type": "execute_result"
    }
   ],
   "source": [
    "rho = 0.2190\n",
    "A3 = np.vstack((A, (rho**0.5)*np.eye(10)))\n",
    "p3 = (np.dot(pinv(A3), np.vstack((np.ones((20,1)), (rho**0.5)*0.5*np.ones((10,1))))))\n",
    "p3"
   ]
  },
  {
   "cell_type": "code",
   "execution_count": 38,
   "metadata": {},
   "outputs": [
    {
     "name": "stdout",
     "output_type": "stream",
     "text": [
      "0.4438989791535322\n"
     ]
    }
   ],
   "source": [
    "res = -1\n",
    "for row in A:\n",
    "    res = max(abs(log(np.dot(row,p3))), res)\n",
    "print(res)"
   ]
  },
  {
   "cell_type": "markdown",
   "metadata": {},
   "source": [
    "(d) Chebyshev approximation.\n",
    "-----"
   ]
  },
  {
   "cell_type": "code",
   "execution_count": 39,
   "metadata": {
    "collapsed": true
   },
   "outputs": [],
   "source": [
    "from cvxpy import *"
   ]
  },
  {
   "cell_type": "code",
   "execution_count": 40,
   "metadata": {},
   "outputs": [
    {
     "name": "stdout",
     "output_type": "stream",
     "text": [
      "[[  9.99999999e-01]\n",
      " [  1.16498941e-01]\n",
      " [  1.80418261e-11]\n",
      " [  1.66764395e-11]\n",
      " [  9.99999997e-01]\n",
      " [  2.01763782e-09]\n",
      " [  1.00000000e+00]\n",
      " [  2.49006783e-02]\n",
      " [  2.42985357e-10]\n",
      " [  9.99999999e-01]]\n"
     ]
    }
   ],
   "source": [
    "b = np.ones((20,1))\n",
    "p4 = Variable(10)\n",
    "objective = Minimize(norm(A*p4 - b, \"inf\"))\n",
    "constraints = [0 <= p4, p4 <= 1]\n",
    "prob = Problem(objective, constraints)\n",
    "# The optimal objective is returned by prob.solve().\n",
    "result = prob.solve()\n",
    "# The optimal value for x is stored in x.value.\n",
    "print(p4.value)\n",
    "p4 = p4.value"
   ]
  },
  {
   "cell_type": "code",
   "execution_count": 41,
   "metadata": {},
   "outputs": [
    {
     "ename": "Exception",
     "evalue": "Cannot evaluate the truth value of a constraint or chain constraints, e.g., 1 >= x >= 0.",
     "output_type": "error",
     "traceback": [
      "\u001b[0;31m---------------------------------------------------------------------------\u001b[0m",
      "\u001b[0;31mException\u001b[0m                                 Traceback (most recent call last)",
      "\u001b[0;32m<ipython-input-41-3c6b6dc05957>\u001b[0m in \u001b[0;36m<module>\u001b[0;34m()\u001b[0m\n\u001b[1;32m     11\u001b[0m \u001b[0mres\u001b[0m \u001b[0;34m=\u001b[0m \u001b[0;34m-\u001b[0m\u001b[0;36m1\u001b[0m\u001b[0;34m\u001b[0m\u001b[0m\n\u001b[1;32m     12\u001b[0m \u001b[0;32mfor\u001b[0m \u001b[0mrow\u001b[0m \u001b[0;32min\u001b[0m \u001b[0mA\u001b[0m\u001b[0;34m:\u001b[0m\u001b[0;34m\u001b[0m\u001b[0m\n\u001b[0;32m---> 13\u001b[0;31m     \u001b[0mres\u001b[0m \u001b[0;34m=\u001b[0m \u001b[0mmax\u001b[0m\u001b[0;34m(\u001b[0m\u001b[0mabs\u001b[0m\u001b[0;34m(\u001b[0m\u001b[0mlog\u001b[0m\u001b[0;34m(\u001b[0m\u001b[0mnp\u001b[0m\u001b[0;34m.\u001b[0m\u001b[0mdot\u001b[0m\u001b[0;34m(\u001b[0m\u001b[0mrow\u001b[0m\u001b[0;34m,\u001b[0m\u001b[0mp4\u001b[0m\u001b[0;34m)\u001b[0m\u001b[0;34m)\u001b[0m\u001b[0;34m)\u001b[0m\u001b[0;34m,\u001b[0m \u001b[0mres\u001b[0m\u001b[0;34m)\u001b[0m\u001b[0;34m\u001b[0m\u001b[0m\n\u001b[0m\u001b[1;32m     14\u001b[0m \u001b[0mprint\u001b[0m\u001b[0;34m(\u001b[0m\u001b[0mres\u001b[0m\u001b[0;34m)\u001b[0m\u001b[0;34m\u001b[0m\u001b[0m\n",
      "\u001b[0;32m/anaconda3/lib/python3.6/site-packages/cvxpy/constraints/leq_constraint.py\u001b[0m in \u001b[0;36m__bool__\u001b[0;34m(self)\u001b[0m\n\u001b[1;32m     82\u001b[0m         \u001b[0mRaising\u001b[0m \u001b[0man\u001b[0m \u001b[0merror\u001b[0m \u001b[0mhere\u001b[0m \u001b[0mprevents\u001b[0m \u001b[0mwriting\u001b[0m \u001b[0mchained\u001b[0m \u001b[0mconstraints\u001b[0m\u001b[0;34m.\u001b[0m\u001b[0;34m\u001b[0m\u001b[0m\n\u001b[1;32m     83\u001b[0m         \"\"\"\n\u001b[0;32m---> 84\u001b[0;31m         \u001b[0;32mreturn\u001b[0m \u001b[0mself\u001b[0m\u001b[0;34m.\u001b[0m\u001b[0m_chain_constraints\u001b[0m\u001b[0;34m(\u001b[0m\u001b[0;34m)\u001b[0m\u001b[0;34m\u001b[0m\u001b[0m\n\u001b[0m\u001b[1;32m     85\u001b[0m \u001b[0;34m\u001b[0m\u001b[0m\n\u001b[1;32m     86\u001b[0m     \u001b[0;34m@\u001b[0m\u001b[0mproperty\u001b[0m\u001b[0;34m\u001b[0m\u001b[0m\n",
      "\u001b[0;32m/anaconda3/lib/python3.6/site-packages/cvxpy/constraints/leq_constraint.py\u001b[0m in \u001b[0;36m_chain_constraints\u001b[0;34m(self)\u001b[0m\n\u001b[1;32m     70\u001b[0m         \"\"\"\n\u001b[1;32m     71\u001b[0m         raise Exception(\n\u001b[0;32m---> 72\u001b[0;31m             (\"Cannot evaluate the truth value of a constraint or \"\n\u001b[0m\u001b[1;32m     73\u001b[0m              \"chain constraints, e.g., 1 >= x >= 0.\")\n\u001b[1;32m     74\u001b[0m         )\n",
      "\u001b[0;31mException\u001b[0m: Cannot evaluate the truth value of a constraint or chain constraints, e.g., 1 >= x >= 0."
     ]
    }
   ],
   "source": [
    "p4 = np.array( [[  9.99999999e-01],\n",
    " [  1.16498941e-01],\n",
    " [  1.80418261e-11],\n",
    " [  1.66764395e-11],\n",
    " [  9.99999997e-01],\n",
    " [  2.01763782e-09],\n",
    " [  1.00000000e+00],\n",
    " [  2.49006783e-02],\n",
    " [  2.42985357e-10],\n",
    " [  9.99999999e-01]])\n",
    "res = -1\n",
    "for row in A:\n",
    "    res = max(abs(log(np.dot(row,p4))), res)\n",
    "print(res)"
   ]
  },
  {
   "cell_type": "markdown",
   "metadata": {},
   "source": [
    "(e) Exact solution.\n",
    "----"
   ]
  },
  {
   "cell_type": "code",
   "execution_count": 39,
   "metadata": {
    "collapsed": true
   },
   "outputs": [],
   "source": [
    "b = np.ones((20,1))\n",
    "p5 = Variable(10)\n",
    "#f0 = np.vstack((A*p5, inv_pos(A*p5)))"
   ]
  },
  {
   "cell_type": "code",
   "execution_count": 40,
   "metadata": {},
   "outputs": [
    {
     "name": "stdout",
     "output_type": "stream",
     "text": [
      "[[  1.00000000e+00]\n",
      " [  2.02299180e-01]\n",
      " [  3.56868941e-11]\n",
      " [  1.40294607e-11]\n",
      " [  9.99999997e-01]\n",
      " [  2.32004012e-09]\n",
      " [  1.00000000e+00]\n",
      " [  1.88156919e-01]\n",
      " [  1.48570996e-10]\n",
      " [  1.00000000e+00]]\n"
     ]
    }
   ],
   "source": [
    "objective = Minimize(max_elemwise(max_entries(A*p5),max_entries(inv_pos(A*p5))))\n",
    "constraints = [0 <= p5, p5 <= 1]\n",
    "prob = Problem(objective, constraints)\n",
    "# The optimal objective is returned by prob.solve().\n",
    "result = prob.solve()\n",
    "# The optimal value for x is stored in x.value.\n",
    "print(p5.value)"
   ]
  },
  {
   "cell_type": "code",
   "execution_count": 13,
   "metadata": {},
   "outputs": [
    {
     "name": "stdout",
     "output_type": "stream",
     "text": [
      "0.35747432077682445\n"
     ]
    }
   ],
   "source": [
    "p5 = np.array( [[  1.00000000e+00],\n",
    " [  2.02299180e-01],\n",
    " [  3.56868941e-11],\n",
    " [  1.40294607e-11],\n",
    " [  9.99999997e-01],\n",
    " [  2.32004012e-09],\n",
    " [  1.00000000e+00],\n",
    " [  1.88156919e-01],\n",
    " [  1.48570996e-10],\n",
    " [  1.00000000e+00]])\n",
    "res = -1\n",
    "for row in A:\n",
    "    res = max(abs(log(np.dot(row,p5))), res)\n",
    "print(res)"
   ]
  },
  {
   "cell_type": "code",
   "execution_count": null,
   "metadata": {
    "collapsed": true
   },
   "outputs": [],
   "source": []
  }
 ],
 "metadata": {
  "kernelspec": {
   "display_name": "Python 3",
   "language": "python",
   "name": "python3"
  },
  "language_info": {
   "codemirror_mode": {
    "name": "ipython",
    "version": 3
   },
   "file_extension": ".py",
   "mimetype": "text/x-python",
   "name": "python",
   "nbconvert_exporter": "python",
   "pygments_lexer": "ipython3",
   "version": "3.6.3"
  }
 },
 "nbformat": 4,
 "nbformat_minor": 2
}
